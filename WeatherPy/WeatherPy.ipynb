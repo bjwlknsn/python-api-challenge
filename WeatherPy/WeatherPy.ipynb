{
 "cells": [
  {
   "cell_type": "markdown",
   "metadata": {},
   "source": [
    "# WeatherPy\n",
    "----"
   ]
  },
  {
   "cell_type": "code",
   "execution_count": 1,
   "metadata": {
    "scrolled": true
   },
   "outputs": [],
   "source": [
    "# Dependencies and Setup\n",
    "import matplotlib.pyplot as plt\n",
    "import pandas as pd\n",
    "import numpy as np\n",
    "import requests\n",
    "import time\n",
    "from scipy.stats import linregress\n",
    "\n",
    "# Import API key\n",
    "from api_keys import weather_api_key\n",
    "\n",
    "# Incorporated citipy to determine city based on latitude and longitude\n",
    "from citipy import citipy\n",
    "\n",
    "# Output File (CSV)\n",
    "output_data_file = \"output_data/cities.csv\"\n",
    "\n",
    "# Range of latitudes and longitudes\n",
    "lat_range = (-90, 90)\n",
    "lng_range = (-180, 180)"
   ]
  },
  {
   "cell_type": "markdown",
   "metadata": {},
   "source": [
    "## Generate Cities List"
   ]
  },
  {
   "cell_type": "code",
   "execution_count": 2,
   "metadata": {},
   "outputs": [
    {
     "data": {
      "text/plain": [
       "575"
      ]
     },
     "execution_count": 2,
     "metadata": {},
     "output_type": "execute_result"
    }
   ],
   "source": [
    "# List for holding lat_lngs and cities\n",
    "lat_lngs = []\n",
    "cities = []\n",
    "\n",
    "# Create a set of random lat and lng combinations\n",
    "lats = np.random.uniform(lat_range[0], lat_range[1], size=1500)\n",
    "lngs = np.random.uniform(lng_range[0], lng_range[1], size=1500)\n",
    "lat_lngs = zip(lats, lngs)\n",
    "\n",
    "# Identify nearest city for each lat, lng combination\n",
    "for lat_lng in lat_lngs:\n",
    "    city = citipy.nearest_city(lat_lng[0], lat_lng[1]).city_name\n",
    "    \n",
    "    # If the city is unique, then add it to a our cities list\n",
    "    if city not in cities:\n",
    "        cities.append(city)\n",
    "\n",
    "# Print the city count to confirm sufficient count\n",
    "len(cities)"
   ]
  },
  {
   "cell_type": "markdown",
   "metadata": {},
   "source": [
    "### Perform API Calls\n",
    "* Perform a weather check on each city using a series of successive API calls.\n",
    "* Include a print log of each city as it'sbeing processed (with the city number and city name).\n"
   ]
  },
  {
   "cell_type": "code",
   "execution_count": 6,
   "metadata": {
    "scrolled": true
   },
   "outputs": [
    {
     "name": "stdout",
     "output_type": "stream",
     "text": [
      "Beginning Data Retrieval \n",
      "-----------------------------\n",
      "Processing record 1 of Set 1 | tuktoyaktuk\n",
      "Processing record 2 of Set 1 | busselton\n",
      "Processing record 3 of Set 1 | albany\n",
      "Processing record 4 of Set 1 | hermanus\n",
      "Processing record 5 of Set 1 | tanout\n",
      "Processing record 6 of Set 1 | port alfred\n",
      "Processing record 7 of Set 1 | klaksvik\n",
      "Processing record 8 of Set 1 | husavik\n",
      "Processing record 9 of Set 1 | hobart\n",
      "Processing record 10 of Set 1 | kapaa\n",
      "Processing record 11 of Set 1 | mnogovershinnyy\n",
      "City not found. Skipping...\n",
      "Processing record 12 of Set 1 | yarim\n",
      "Processing record 13 of Set 1 | cape town\n",
      "Processing record 14 of Set 1 | port blair\n",
      "Processing record 15 of Set 1 | avera\n",
      "Processing record 16 of Set 1 | riyadh\n",
      "Processing record 17 of Set 1 | saldanha\n",
      "City not found. Skipping...\n",
      "Processing record 18 of Set 1 | ribeira grande\n",
      "Processing record 19 of Set 1 | rikitea\n",
      "Processing record 20 of Set 1 | saskylakh\n",
      "Processing record 21 of Set 1 | mataura\n",
      "Processing record 22 of Set 1 | puerto ayora\n",
      "Processing record 23 of Set 1 | vaini\n",
      "Processing record 24 of Set 1 | avarua\n",
      "Processing record 25 of Set 1 | tuatapere\n",
      "Processing record 26 of Set 1 | bud\n",
      "City not found. Skipping...\n",
      "Processing record 27 of Set 1 | new norfolk\n",
      "City not found. Skipping...\n",
      "Processing record 28 of Set 1 | chumikan\n",
      "Processing record 29 of Set 1 | dekar\n",
      "Processing record 30 of Set 1 | qaanaaq\n",
      "Processing record 31 of Set 1 | buala\n",
      "Processing record 32 of Set 1 | atar\n",
      "Processing record 33 of Set 1 | victoria\n",
      "Processing record 34 of Set 1 | carnarvon\n",
      "Processing record 35 of Set 1 | dikson\n",
      "Processing record 36 of Set 1 | barrow\n",
      "Processing record 37 of Set 1 | east london\n",
      "Processing record 38 of Set 1 | saint-pierre\n",
      "Processing record 39 of Set 1 | ushuaia\n",
      "Processing record 40 of Set 1 | jamestown\n",
      "Processing record 41 of Set 1 | kaitangata\n",
      "City not found. Skipping...\n",
      "Processing record 42 of Set 1 | yarada\n",
      "Processing record 43 of Set 1 | mulchen\n",
      "Processing record 44 of Set 1 | bubaque\n",
      "Processing record 45 of Set 1 | cockburn town\n",
      "Processing record 46 of Set 1 | matay\n",
      "Processing record 47 of Set 1 | prince rupert\n",
      "Processing record 48 of Set 1 | munkebo\n",
      "Processing record 49 of Set 1 | arraial do cabo\n",
      "Processing record 50 of Set 1 | pevek\n",
      "Processing record 51 of Set 1 | calama\n",
      "Processing record 52 of Set 1 | chuy\n",
      "Processing record 53 of Set 1 | khatanga\n",
      "Processing record 54 of Set 1 | dingle\n",
      "Processing record 55 of Set 1 | san vicente\n",
      "Processing record 56 of Set 1 | daru\n",
      "Processing record 57 of Set 1 | manokwari\n",
      "Processing record 58 of Set 1 | butaritari\n",
      "Processing record 59 of Set 1 | mecca\n",
      "Processing record 60 of Set 1 | sawang daen din\n",
      "Processing record 61 of Set 1 | upernavik\n",
      "Processing record 62 of Set 1 | margate\n",
      "City not found. Skipping...\n",
      "Processing record 63 of Set 1 | bluff\n",
      "City not found. Skipping...\n",
      "Processing record 64 of Set 1 | guiratinga\n",
      "Processing record 65 of Set 1 | vardo\n",
      "Processing record 66 of Set 1 | matagami\n",
      "Processing record 67 of Set 1 | beidao\n",
      "Processing record 68 of Set 1 | maniitsoq\n",
      "Processing record 69 of Set 1 | hithadhoo\n",
      "City not found. Skipping...\n",
      "Processing record 70 of Set 1 | hilo\n",
      "Processing record 71 of Set 1 | nikolskoye\n",
      "Processing record 72 of Set 1 | saint-augustin\n",
      "Processing record 73 of Set 1 | kananga\n",
      "Processing record 74 of Set 1 | longyearbyen\n",
      "Processing record 75 of Set 1 | vaitape\n",
      "Processing record 76 of Set 1 | yellowknife\n",
      "Processing record 77 of Set 1 | adrar\n",
      "Processing record 78 of Set 1 | saint-philippe\n",
      "Processing record 79 of Set 1 | forssa\n",
      "Processing record 80 of Set 1 | trairi\n",
      "Processing record 81 of Set 1 | asahikawa\n",
      "Processing record 82 of Set 1 | den helder\n",
      "City not found. Skipping...\n",
      "Processing record 83 of Set 1 | la tuque\n",
      "Processing record 84 of Set 1 | araceli\n",
      "Processing record 85 of Set 1 | hasaki\n",
      "Processing record 86 of Set 1 | minbu\n",
      "Processing record 87 of Set 1 | carutapera\n",
      "City not found. Skipping...\n",
      "Processing record 88 of Set 1 | mar del plata\n",
      "Processing record 89 of Set 1 | nurota\n",
      "City not found. Skipping...\n",
      "Processing record 90 of Set 1 | port lincoln\n",
      "City not found. Skipping...\n",
      "Processing record 91 of Set 1 | nicoya\n",
      "Processing record 92 of Set 1 | kamina\n",
      "Processing record 93 of Set 1 | georgetown\n",
      "Processing record 94 of Set 1 | constitucion\n",
      "City not found. Skipping...\n",
      "Processing record 95 of Set 1 | norman wells\n",
      "Processing record 96 of Set 1 | namibe\n",
      "Processing record 97 of Set 1 | esperance\n",
      "Processing record 98 of Set 1 | salalah\n",
      "Processing record 99 of Set 1 | punta arenas\n",
      "Processing record 100 of Set 1 | vitim\n",
      "Processing record 101 of Set 1 | ambon\n",
      "Processing record 102 of Set 1 | pierre\n",
      "Processing record 103 of Set 1 | gemena\n",
      "Processing record 104 of Set 1 | aykhal\n",
      "City not found. Skipping...\n",
      "Processing record 105 of Set 1 | mantsala\n",
      "Processing record 106 of Set 1 | kodinsk\n",
      "Processing record 107 of Set 1 | saint george\n",
      "Processing record 108 of Set 1 | bredasdorp\n",
      "Processing record 109 of Set 1 | stephenville\n",
      "City not found. Skipping...\n",
      "Processing record 110 of Set 1 | gaoual\n",
      "Processing record 111 of Set 1 | clyde river\n",
      "Processing record 112 of Set 1 | thompson\n",
      "Processing record 113 of Set 1 | betioky\n",
      "Processing record 114 of Set 1 | mogadishu\n",
      "Processing record 115 of Set 1 | shelburne\n",
      "Processing record 116 of Set 1 | la ronge\n",
      "City not found. Skipping...\n",
      "Processing record 117 of Set 1 | lorengau\n",
      "Processing record 118 of Set 1 | chabahar\n",
      "Processing record 119 of Set 1 | tongren\n",
      "Processing record 120 of Set 1 | sao joao da barra\n",
      "City not found. Skipping...\n",
      "Processing record 121 of Set 1 | bethel\n",
      "Processing record 122 of Set 1 | pitimbu\n",
      "City not found. Skipping...\n",
      "Processing record 123 of Set 1 | pangody\n",
      "Processing record 124 of Set 1 | luoyang\n",
      "Processing record 125 of Set 1 | cidreira\n",
      "Processing record 126 of Set 1 | chokurdakh\n",
      "Processing record 127 of Set 1 | oriximina\n",
      "City not found. Skipping...\n",
      "Processing record 128 of Set 1 | tasiilaq\n",
      "Processing record 129 of Set 1 | ilulissat\n",
      "Processing record 130 of Set 1 | atuona\n",
      "Processing record 131 of Set 1 | fairbanks\n",
      "Processing record 132 of Set 1 | hovd\n",
      "Processing record 133 of Set 1 | narsaq\n",
      "Processing record 134 of Set 1 | ugoofaaru\n",
      "Processing record 135 of Set 1 | severo-kurilsk\n",
      "Processing record 136 of Set 1 | geraldton\n",
      "Processing record 137 of Set 1 | whitecourt\n",
      "Processing record 138 of Set 1 | ponta do sol\n",
      "City not found. Skipping...\n",
      "Processing record 139 of Set 1 | port-cartier\n",
      "Processing record 140 of Set 1 | bengkulu\n",
      "Processing record 141 of Set 1 | buraydah\n",
      "Processing record 142 of Set 1 | oudtshoorn\n",
      "Processing record 143 of Set 1 | teknaf\n",
      "Processing record 144 of Set 1 | martapura\n",
      "Processing record 145 of Set 1 | sitka\n",
      "Processing record 146 of Set 1 | itoman\n",
      "Processing record 147 of Set 1 | belmonte\n",
      "Processing record 148 of Set 1 | verkhnevilyuysk\n",
      "Processing record 149 of Set 1 | lasa\n",
      "City not found. Skipping...\n",
      "Processing record 150 of Set 1 | torbay\n",
      "City not found. Skipping...\n",
      "Processing record 151 of Set 1 | zhigansk\n",
      "Processing record 152 of Set 1 | okhotsk\n",
      "Processing record 153 of Set 1 | provideniya\n",
      "Processing record 154 of Set 1 | alyangula\n",
      "Processing record 155 of Set 1 | black river\n",
      "City not found. Skipping...\n",
      "Processing record 156 of Set 1 | loei\n",
      "Processing record 157 of Set 1 | broken hill\n",
      "Processing record 158 of Set 1 | conde\n",
      "Processing record 159 of Set 1 | guerrero negro\n",
      "Processing record 160 of Set 1 | cayenne\n",
      "City not found. Skipping...\n",
      "Processing record 161 of Set 1 | luderitz\n",
      "Processing record 162 of Set 1 | boa vista\n",
      "Processing record 163 of Set 1 | alzamay\n",
      "Processing record 164 of Set 1 | cambara\n",
      "Processing record 165 of Set 1 | sauce\n",
      "Processing record 166 of Set 1 | cheremukhovo\n",
      "Processing record 167 of Set 1 | ulvik\n",
      "City not found. Skipping...\n",
      "Processing record 168 of Set 1 | lekoni\n",
      "Processing record 169 of Set 1 | jinji\n",
      "Processing record 170 of Set 1 | douglas\n",
      "Processing record 171 of Set 1 | bileca\n",
      "Processing record 172 of Set 1 | cherskiy\n",
      "Processing record 173 of Set 1 | barcelona\n",
      "Processing record 174 of Set 1 | morondava\n",
      "Processing record 175 of Set 1 | sao filipe\n",
      "Processing record 176 of Set 1 | labuhan\n",
      "Processing record 177 of Set 1 | hay river\n",
      "Processing record 178 of Set 1 | dukat\n",
      "Processing record 179 of Set 1 | san cristobal\n"
     ]
    },
    {
     "name": "stdout",
     "output_type": "stream",
     "text": [
      "Processing record 180 of Set 1 | kavaratti\n",
      "Processing record 181 of Set 1 | luang prabang\n",
      "Processing record 182 of Set 1 | vilhena\n",
      "Processing record 183 of Set 1 | sint-pieters-leeuw\n",
      "Processing record 184 of Set 1 | brae\n",
      "Processing record 185 of Set 1 | rybinsk\n",
      "Processing record 186 of Set 1 | livingston\n",
      "Processing record 187 of Set 1 | lavrentiya\n",
      "Processing record 188 of Set 1 | nantucket\n",
      "Processing record 189 of Set 1 | olafsvik\n",
      "Processing record 190 of Set 1 | kruisfontein\n",
      "City not found. Skipping...\n",
      "Processing record 191 of Set 1 | falam\n",
      "Processing record 192 of Set 1 | amuntai\n",
      "Processing record 193 of Set 1 | waddan\n",
      "City not found. Skipping...\n",
      "Processing record 194 of Set 1 | port elizabeth\n",
      "Processing record 195 of Set 1 | sola\n",
      "Processing record 196 of Set 1 | latung\n",
      "Processing record 197 of Set 1 | nelson bay\n",
      "Processing record 198 of Set 1 | naval\n",
      "Processing record 199 of Set 1 | neiafu\n",
      "Processing record 200 of Set 1 | cap malheureux\n",
      "Processing record 201 of Set 1 | boende\n",
      "Processing record 202 of Set 1 | isla vista\n",
      "Processing record 203 of Set 1 | vanimo\n",
      "Processing record 204 of Set 1 | spearfish\n",
      "Processing record 205 of Set 1 | correntina\n",
      "Processing record 206 of Set 1 | tiksi\n",
      "Processing record 207 of Set 1 | airai\n",
      "Processing record 208 of Set 1 | kurunegala\n",
      "Processing record 209 of Set 1 | northam\n",
      "Processing record 210 of Set 1 | ozinki\n",
      "Processing record 211 of Set 1 | hami\n",
      "Processing record 212 of Set 1 | vostok\n",
      "Processing record 213 of Set 1 | kudahuvadhoo\n",
      "Processing record 214 of Set 1 | lebu\n",
      "Processing record 215 of Set 1 | bulgan\n",
      "Processing record 216 of Set 1 | sawtell\n",
      "Processing record 217 of Set 1 | calvinia\n",
      "Processing record 218 of Set 1 | castro\n",
      "Processing record 219 of Set 1 | baherden\n",
      "Processing record 220 of Set 1 | naze\n",
      "City not found. Skipping...\n",
      "Processing record 221 of Set 1 | ramgarh\n",
      "Processing record 222 of Set 1 | ahipara\n",
      "Processing record 223 of Set 1 | puqi\n",
      "Processing record 224 of Set 1 | shimoda\n",
      "Processing record 225 of Set 1 | talnakh\n",
      "Processing record 226 of Set 1 | duluth\n",
      "Processing record 227 of Set 1 | mumford\n",
      "Processing record 228 of Set 1 | karratha\n",
      "Processing record 229 of Set 1 | santa rosa\n",
      "City not found. Skipping...\n",
      "City not found. Skipping...\n",
      "Processing record 230 of Set 1 | george town\n",
      "Processing record 231 of Set 1 | tamale\n",
      "Processing record 232 of Set 1 | mikhaylovka\n",
      "Processing record 233 of Set 1 | kainantu\n",
      "Processing record 234 of Set 1 | necochea\n",
      "Processing record 235 of Set 1 | kodiak\n",
      "Processing record 236 of Set 1 | corning\n",
      "Processing record 237 of Set 1 | nanakuli\n",
      "Processing record 238 of Set 1 | harer\n",
      "Processing record 239 of Set 1 | kenai\n",
      "Processing record 240 of Set 1 | lompoc\n",
      "Processing record 241 of Set 1 | ormara\n",
      "Processing record 242 of Set 1 | caxito\n",
      "Processing record 243 of Set 1 | leningradskiy\n",
      "Processing record 244 of Set 1 | iralaya\n",
      "Processing record 245 of Set 1 | calamar\n",
      "Processing record 246 of Set 1 | slave lake\n",
      "Processing record 247 of Set 1 | mahebourg\n",
      "Processing record 248 of Set 1 | nuuk\n",
      "Processing record 249 of Set 1 | bambous virieux\n",
      "Processing record 250 of Set 1 | kavieng\n",
      "Processing record 251 of Set 1 | laguna\n",
      "Processing record 252 of Set 1 | roxana\n",
      "Processing record 253 of Set 1 | dhidhdhoo\n",
      "Processing record 254 of Set 1 | tecoanapa\n",
      "City not found. Skipping...\n",
      "Processing record 255 of Set 1 | whitehorse\n",
      "Processing record 256 of Set 1 | yumen\n",
      "Processing record 257 of Set 1 | dunedin\n",
      "Processing record 258 of Set 1 | samarai\n",
      "Processing record 259 of Set 1 | providencia\n",
      "Processing record 260 of Set 1 | znamenskoye\n",
      "Processing record 261 of Set 1 | baeza\n",
      "Processing record 262 of Set 1 | araouane\n",
      "Processing record 263 of Set 1 | najran\n",
      "Processing record 264 of Set 1 | pisco\n",
      "Processing record 265 of Set 1 | tigil\n",
      "Processing record 266 of Set 1 | north bend\n",
      "Processing record 267 of Set 1 | townsville\n",
      "Processing record 268 of Set 1 | baykit\n",
      "Processing record 269 of Set 1 | aklavik\n",
      "Processing record 270 of Set 1 | hualmay\n",
      "Processing record 271 of Set 1 | fortuna\n",
      "Processing record 272 of Set 1 | laizhou\n",
      "Processing record 273 of Set 1 | kasane\n",
      "City not found. Skipping...\n",
      "Processing record 274 of Set 1 | rocha\n",
      "Processing record 275 of Set 1 | pozo colorado\n",
      "Processing record 276 of Set 1 | lata\n",
      "Processing record 277 of Set 1 | corinth\n",
      "City not found. Skipping...\n",
      "Processing record 278 of Set 1 | sindor\n",
      "Processing record 279 of Set 1 | port-gentil\n",
      "Processing record 280 of Set 1 | kamenka\n",
      "Processing record 281 of Set 1 | iqaluit\n",
      "Processing record 282 of Set 1 | alofi\n",
      "Processing record 283 of Set 1 | villazon\n",
      "City not found. Skipping...\n",
      "Processing record 284 of Set 1 | maloy\n",
      "City not found. Skipping...\n",
      "Processing record 285 of Set 1 | flinders\n",
      "Processing record 286 of Set 1 | haines junction\n",
      "Processing record 287 of Set 1 | kununurra\n",
      "Processing record 288 of Set 1 | hofn\n",
      "Processing record 289 of Set 1 | vila velha\n",
      "Processing record 290 of Set 1 | zakamensk\n",
      "Processing record 291 of Set 1 | lakatoro\n",
      "Processing record 292 of Set 1 | kuhdasht\n",
      "Processing record 293 of Set 1 | zapolyarnyy\n",
      "Processing record 294 of Set 1 | mirnyy\n",
      "Processing record 295 of Set 1 | cururupu\n",
      "Processing record 296 of Set 1 | moron\n",
      "Processing record 297 of Set 1 | goderich\n",
      "Processing record 298 of Set 1 | tatvan\n",
      "Processing record 299 of Set 1 | ust-nera\n",
      "Processing record 300 of Set 1 | port macquarie\n",
      "Processing record 301 of Set 1 | dandong\n",
      "Processing record 302 of Set 1 | jiayuguan\n",
      "Processing record 303 of Set 1 | cabo san lucas\n",
      "City not found. Skipping...\n",
      "Processing record 304 of Set 1 | maputo\n",
      "Processing record 305 of Set 1 | mitu\n",
      "Processing record 306 of Set 1 | calabozo\n",
      "Processing record 307 of Set 1 | caborca\n",
      "Processing record 308 of Set 1 | rutul\n",
      "Processing record 309 of Set 1 | mount gambier\n",
      "City not found. Skipping...\n",
      "Processing record 310 of Set 1 | bulanash\n",
      "Processing record 311 of Set 1 | rock sound\n",
      "Processing record 312 of Set 1 | el mante\n",
      "Processing record 313 of Set 1 | vila\n",
      "Processing record 314 of Set 1 | inuvik\n",
      "Processing record 315 of Set 1 | subirana\n",
      "Processing record 316 of Set 1 | loncoche\n",
      "Processing record 317 of Set 1 | waipawa\n",
      "Processing record 318 of Set 1 | pacific grove\n",
      "Processing record 319 of Set 1 | mountain home\n",
      "Processing record 320 of Set 1 | nome\n",
      "Processing record 321 of Set 1 | tamandare\n",
      "Processing record 322 of Set 1 | zaraza\n",
      "Processing record 323 of Set 1 | nhulunbuy\n",
      "Processing record 324 of Set 1 | beringovskiy\n",
      "Processing record 325 of Set 1 | shitanjing\n",
      "Processing record 326 of Set 1 | portland\n",
      "City not found. Skipping...\n",
      "Processing record 327 of Set 1 | jaroslaw\n",
      "Processing record 328 of Set 1 | sidi ali\n",
      "Processing record 329 of Set 1 | keetmanshoop\n",
      "Processing record 330 of Set 1 | tiarei\n",
      "Processing record 331 of Set 1 | ulfborg\n",
      "Processing record 332 of Set 1 | nosy varika\n",
      "Processing record 333 of Set 1 | port hedland\n",
      "Processing record 334 of Set 1 | huarmey\n",
      "Processing record 335 of Set 1 | peleduy\n",
      "Processing record 336 of Set 1 | hamilton\n",
      "Processing record 337 of Set 1 | maracacume\n",
      "Processing record 338 of Set 1 | biryukove\n",
      "Processing record 339 of Set 1 | atambua\n",
      "Processing record 340 of Set 1 | west plains\n",
      "Processing record 341 of Set 1 | frome\n",
      "Processing record 342 of Set 1 | anchorage\n",
      "City not found. Skipping...\n",
      "Processing record 343 of Set 1 | krasnoselkup\n",
      "Processing record 344 of Set 1 | danielskuil\n",
      "Processing record 345 of Set 1 | shanghai\n",
      "Processing record 346 of Set 1 | torgau\n",
      "Processing record 347 of Set 1 | gizo\n",
      "City not found. Skipping...\n",
      "Processing record 348 of Set 1 | saint anthony\n",
      "Processing record 349 of Set 1 | cabedelo\n",
      "Processing record 350 of Set 1 | oskarshamn\n",
      "Processing record 351 of Set 1 | bilma\n",
      "Processing record 352 of Set 1 | suileng\n",
      "Processing record 353 of Set 1 | neryungri\n",
      "Processing record 354 of Set 1 | tawang\n",
      "Processing record 355 of Set 1 | gafanha da encarnacao\n",
      "Processing record 356 of Set 1 | sabya\n",
      "Processing record 357 of Set 1 | preobrazheniye\n",
      "Processing record 358 of Set 1 | lima\n",
      "Processing record 359 of Set 1 | nerchinskiy zavod\n",
      "Processing record 360 of Set 1 | aksarka\n",
      "Processing record 361 of Set 1 | roald\n",
      "Processing record 362 of Set 1 | yarmouth\n",
      "Processing record 363 of Set 1 | sistranda\n",
      "Processing record 364 of Set 1 | thinadhoo\n",
      "Processing record 365 of Set 1 | taltal\n",
      "Processing record 366 of Set 1 | souillac\n",
      "Processing record 367 of Set 1 | roma\n",
      "Processing record 368 of Set 1 | srednekolymsk\n",
      "Processing record 369 of Set 1 | paita\n",
      "Processing record 370 of Set 1 | florida\n",
      "Processing record 371 of Set 1 | kapoeta\n",
      "Processing record 372 of Set 1 | korostyshiv\n",
      "Processing record 373 of Set 1 | zemaiciu naumiestis\n",
      "Processing record 374 of Set 1 | chihuahua\n",
      "Processing record 375 of Set 1 | farafangana\n",
      "Processing record 376 of Set 1 | yar-sale\n",
      "Processing record 377 of Set 1 | monywa\n",
      "Processing record 378 of Set 1 | deep river\n",
      "Processing record 379 of Set 1 | kovdor\n",
      "Processing record 380 of Set 1 | alta floresta\n",
      "Processing record 381 of Set 1 | anadyr\n",
      "Processing record 382 of Set 1 | brzesko\n",
      "City not found. Skipping...\n",
      "Processing record 383 of Set 1 | eureka\n",
      "City not found. Skipping...\n",
      "Processing record 384 of Set 1 | flagstaff\n",
      "Processing record 385 of Set 1 | kalabo\n",
      "Processing record 386 of Set 1 | andenes\n",
      "Processing record 387 of Set 1 | tabas\n",
      "Processing record 388 of Set 1 | porbandar\n",
      "Processing record 389 of Set 1 | katsuura\n",
      "Processing record 390 of Set 1 | turukhansk\n",
      "Processing record 391 of Set 1 | pyaozerskiy\n",
      "Processing record 392 of Set 1 | lazaro cardenas\n",
      "Processing record 393 of Set 1 | nanortalik\n",
      "Processing record 394 of Set 1 | puerto colombia\n",
      "Processing record 395 of Set 1 | burns lake\n",
      "Processing record 396 of Set 1 | san patricio\n",
      "Processing record 397 of Set 1 | whyalla\n",
      "Processing record 398 of Set 1 | comodoro rivadavia\n",
      "Processing record 399 of Set 1 | yerbogachen\n",
      "Processing record 400 of Set 1 | avallon\n",
      "Processing record 401 of Set 1 | noyabrsk\n",
      "Processing record 402 of Set 1 | rawson\n",
      "Processing record 403 of Set 1 | dudinka\n",
      "Processing record 404 of Set 1 | pachino\n",
      "Processing record 405 of Set 1 | novosergiyevka\n",
      "Processing record 406 of Set 1 | columbus\n",
      "Processing record 407 of Set 1 | acoua\n",
      "Processing record 408 of Set 1 | gotsu\n",
      "Processing record 409 of Set 1 | sinnamary\n",
      "Processing record 410 of Set 1 | puerto baquerizo moreno\n",
      "Processing record 411 of Set 1 | tezu\n",
      "Processing record 412 of Set 1 | haldia\n",
      "Processing record 413 of Set 1 | makakilo city\n",
      "Processing record 414 of Set 1 | marshall\n",
      "City not found. Skipping...\n",
      "Processing record 415 of Set 1 | korla\n",
      "Processing record 416 of Set 1 | namanyere\n",
      "Processing record 417 of Set 1 | salina\n",
      "Processing record 418 of Set 1 | le port\n",
      "Processing record 419 of Set 1 | bidhuna\n",
      "Processing record 420 of Set 1 | bereda\n",
      "Processing record 421 of Set 1 | waingapu\n",
      "City not found. Skipping...\n",
      "Processing record 422 of Set 1 | ajdabiya\n",
      "Processing record 423 of Set 1 | malanville\n",
      "Processing record 424 of Set 1 | sault sainte marie\n",
      "Processing record 425 of Set 1 | qaqortoq\n",
      "Processing record 426 of Set 1 | karpogory\n",
      "Processing record 427 of Set 1 | roth\n",
      "Processing record 428 of Set 1 | quatre cocos\n",
      "Processing record 429 of Set 1 | seoul\n",
      "Processing record 430 of Set 1 | yulara\n",
      "Processing record 431 of Set 1 | wanning\n",
      "Processing record 432 of Set 1 | syamzha\n",
      "Processing record 433 of Set 1 | tura\n",
      "Processing record 434 of Set 1 | santa cruz\n",
      "Processing record 435 of Set 1 | veraval\n",
      "City not found. Skipping...\n",
      "Processing record 436 of Set 1 | kharan\n",
      "Processing record 437 of Set 1 | bichura\n",
      "Processing record 438 of Set 1 | rotterdam\n",
      "Processing record 439 of Set 1 | noumea\n",
      "Processing record 440 of Set 1 | calimete\n",
      "Processing record 441 of Set 1 | payo\n",
      "Processing record 442 of Set 1 | gamba\n",
      "City not found. Skipping...\n",
      "Processing record 443 of Set 1 | marawi\n",
      "City not found. Skipping...\n",
      "Processing record 444 of Set 1 | vinukonda\n",
      "Processing record 445 of Set 1 | chipinge\n",
      "Processing record 446 of Set 1 | puerto carreno\n",
      "Processing record 447 of Set 1 | kahului\n",
      "Processing record 448 of Set 1 | pyapon\n",
      "Processing record 449 of Set 1 | tiznit\n",
      "Processing record 450 of Set 1 | temozon\n",
      "Processing record 451 of Set 1 | hearst\n",
      "Processing record 452 of Set 1 | coahuayana\n",
      "Processing record 453 of Set 1 | narasannapeta\n",
      "City not found. Skipping...\n",
      "Processing record 454 of Set 1 | pavagada\n",
      "Processing record 455 of Set 1 | sobolevo\n",
      "Processing record 456 of Set 1 | coihaique\n",
      "Processing record 457 of Set 1 | buchanan\n",
      "Processing record 458 of Set 1 | kralendijk\n",
      "Processing record 459 of Set 1 | presidente olegario\n",
      "Processing record 460 of Set 1 | lagoa\n",
      "Processing record 461 of Set 1 | parati\n",
      "Processing record 462 of Set 1 | aranos\n",
      "Processing record 463 of Set 1 | phek\n",
      "Processing record 464 of Set 1 | camacha\n",
      "Processing record 465 of Set 1 | okha\n",
      "Processing record 466 of Set 1 | la rioja\n",
      "City not found. Skipping...\n",
      "Processing record 467 of Set 1 | shambu\n",
      "Processing record 468 of Set 1 | kuliyapitiya\n",
      "Processing record 469 of Set 1 | port hardy\n",
      "Processing record 470 of Set 1 | berkakit\n",
      "Processing record 471 of Set 1 | borba\n",
      "Processing record 472 of Set 1 | elat\n",
      "Processing record 473 of Set 1 | bonthe\n",
      "Processing record 474 of Set 1 | tabuk\n",
      "Processing record 475 of Set 1 | kismayo\n",
      "Processing record 476 of Set 1 | nishihara\n",
      "City not found. Skipping...\n",
      "Processing record 477 of Set 1 | argir\n",
      "Processing record 478 of Set 1 | ancud\n",
      "Processing record 479 of Set 1 | ijui\n",
      "Processing record 480 of Set 1 | villa guerrero\n",
      "Processing record 481 of Set 1 | yalta\n",
      "Processing record 482 of Set 1 | hambantota\n",
      "Processing record 483 of Set 1 | ballina\n",
      "Processing record 484 of Set 1 | mataram\n",
      "Processing record 485 of Set 1 | edd\n",
      "Processing record 486 of Set 1 | champerico\n",
      "Processing record 487 of Set 1 | garden city\n",
      "Processing record 488 of Set 1 | ratnagiri\n",
      "Processing record 489 of Set 1 | kargopol\n",
      "Processing record 490 of Set 1 | phuthaditjhaba\n",
      "Processing record 491 of Set 1 | faya\n",
      "Processing record 492 of Set 1 | ridgecrest\n",
      "Processing record 493 of Set 1 | jalu\n",
      "Processing record 494 of Set 1 | kaeo\n",
      "Processing record 495 of Set 1 | billings\n",
      "Processing record 496 of Set 1 | cocachacra\n",
      "Processing record 497 of Set 1 | komsomolskiy\n",
      "Processing record 498 of Set 1 | lypova dolyna\n",
      "Processing record 499 of Set 1 | safaga\n",
      "Processing record 500 of Set 1 | bose\n",
      "City not found. Skipping...\n",
      "Processing record 501 of Set 1 | mount isa\n",
      "Processing record 502 of Set 1 | vanavara\n",
      "Processing record 503 of Set 1 | great falls\n",
      "Processing record 504 of Set 1 | college\n",
      "Processing record 505 of Set 1 | broome\n",
      "Processing record 506 of Set 1 | grand gaube\n",
      "Processing record 507 of Set 1 | marzuq\n",
      "Processing record 508 of Set 1 | kitui\n",
      "Processing record 509 of Set 1 | rio gallegos\n",
      "City not found. Skipping...\n",
      "Processing record 510 of Set 1 | berlevag\n",
      "City not found. Skipping...\n",
      "Processing record 511 of Set 1 | mozarlandia\n",
      "Processing record 512 of Set 1 | moerai\n",
      "Processing record 513 of Set 1 | nsanje\n",
      "Processing record 514 of Set 1 | palmer\n",
      "Processing record 515 of Set 1 | saint-michel-des-saints\n",
      "Processing record 516 of Set 1 | ojinaga\n",
      "Processing record 517 of Set 1 | sabinas\n",
      "Processing record 518 of Set 1 | shingu\n",
      "Processing record 519 of Set 1 | pitea\n",
      "Processing record 520 of Set 1 | katangli\n",
      "Processing record 521 of Set 1 | canutama\n",
      "Processing record 522 of Set 1 | puerto del rosario\n",
      "-----------------------------\n",
      "Data Retrieval Complete\n"
     ]
    }
   ],
   "source": [
    "print(\"Beginning Data Retrieval \")\n",
    "print(\"-----------------------------\")\n",
    "\n",
    "base_url = \"http://api.openweathermap.org/data/2.5/forecast?id=524901&APPID=\"\n",
    "target_url = base_url + weather_api_key\n",
    "\n",
    "# set up lists to hold reponse info\n",
    "cityname = []\n",
    "cloudiness = []\n",
    "country = []\n",
    "date = []\n",
    "humidity = []\n",
    "lat = []\n",
    "lng = []\n",
    "max_temp = []\n",
    "wind_speed = []\n",
    "count = 0\n",
    "\n",
    "# Loop through the list of cities and perform a request for data on each\n",
    "\n",
    "for city in cities:\n",
    "    weather_response = requests.get(target_url + \"&q=\" + city + \"&units=Imperial\")\n",
    "    weather_json = weather_response.json()\n",
    "    try:\n",
    "        cityname.append(weather_json['city']['name'])\n",
    "        cloudiness.append(weather_json['list'][0]['clouds']['all'])\n",
    "        country.append(weather_json['city']['country'])\n",
    "        date.append(weather_json['list'][0]['dt'])\n",
    "        humidity.append(weather_json['list'][0]['main']['humidity'])\n",
    "        lat.append(weather_json['city']['coord']['lat'])\n",
    "        lng.append(weather_json['city']['coord']['lon'])\n",
    "        max_temp.append(weather_json['list'][0]['main']['temp_max'])\n",
    "        wind_speed.append(weather_json['list'][0]['wind']['speed'])\n",
    "        count = count + 1\n",
    "        print(f\"Processing record {count} of Set 1 | {city}\")\n",
    "    except:\n",
    "        print(\"City not found. Skipping...\") \n",
    "        pass\n",
    "        \n",
    "print(\"-----------------------------\")\n",
    "print(\"Data Retrieval Complete\")"
   ]
  },
  {
   "cell_type": "markdown",
   "metadata": {},
   "source": [
    "### Convert Raw Data to DataFrame\n",
    "* Export the city data into a .csv.\n",
    "* Display the DataFrame"
   ]
  },
  {
   "cell_type": "code",
   "execution_count": 15,
   "metadata": {},
   "outputs": [
    {
     "data": {
      "text/html": [
       "<div>\n",
       "<style scoped>\n",
       "    .dataframe tbody tr th:only-of-type {\n",
       "        vertical-align: middle;\n",
       "    }\n",
       "\n",
       "    .dataframe tbody tr th {\n",
       "        vertical-align: top;\n",
       "    }\n",
       "\n",
       "    .dataframe thead th {\n",
       "        text-align: right;\n",
       "    }\n",
       "</style>\n",
       "<table border=\"1\" class=\"dataframe\">\n",
       "  <thead>\n",
       "    <tr style=\"text-align: right;\">\n",
       "      <th></th>\n",
       "      <th>City</th>\n",
       "      <th>Lat</th>\n",
       "      <th>Lng</th>\n",
       "      <th>Max Temp</th>\n",
       "      <th>Humidity</th>\n",
       "      <th>Cloudiness</th>\n",
       "      <th>Wind Speed</th>\n",
       "      <th>Country</th>\n",
       "      <th>Date</th>\n",
       "    </tr>\n",
       "  </thead>\n",
       "  <tbody>\n",
       "    <tr>\n",
       "      <th>0</th>\n",
       "      <td>Tuktoyaktuk</td>\n",
       "      <td>69.4541</td>\n",
       "      <td>-133.0374</td>\n",
       "      <td>-28.48</td>\n",
       "      <td>75</td>\n",
       "      <td>17</td>\n",
       "      <td>3.87</td>\n",
       "      <td>CA</td>\n",
       "      <td>1611975600</td>\n",
       "    </tr>\n",
       "    <tr>\n",
       "      <th>1</th>\n",
       "      <td>Busselton</td>\n",
       "      <td>-33.6500</td>\n",
       "      <td>115.3333</td>\n",
       "      <td>80.56</td>\n",
       "      <td>47</td>\n",
       "      <td>0</td>\n",
       "      <td>6.53</td>\n",
       "      <td>AU</td>\n",
       "      <td>1611975600</td>\n",
       "    </tr>\n",
       "    <tr>\n",
       "      <th>2</th>\n",
       "      <td>Albany</td>\n",
       "      <td>42.6001</td>\n",
       "      <td>-73.9662</td>\n",
       "      <td>7.84</td>\n",
       "      <td>68</td>\n",
       "      <td>23</td>\n",
       "      <td>9.28</td>\n",
       "      <td>US</td>\n",
       "      <td>1611975600</td>\n",
       "    </tr>\n",
       "    <tr>\n",
       "      <th>3</th>\n",
       "      <td>Hermanus</td>\n",
       "      <td>-34.4187</td>\n",
       "      <td>19.2345</td>\n",
       "      <td>66.94</td>\n",
       "      <td>80</td>\n",
       "      <td>75</td>\n",
       "      <td>3.29</td>\n",
       "      <td>ZA</td>\n",
       "      <td>1611975600</td>\n",
       "    </tr>\n",
       "    <tr>\n",
       "      <th>4</th>\n",
       "      <td>Tanout</td>\n",
       "      <td>14.9709</td>\n",
       "      <td>8.8879</td>\n",
       "      <td>60.46</td>\n",
       "      <td>29</td>\n",
       "      <td>3</td>\n",
       "      <td>13.15</td>\n",
       "      <td>NE</td>\n",
       "      <td>1611975600</td>\n",
       "    </tr>\n",
       "    <tr>\n",
       "      <th>...</th>\n",
       "      <td>...</td>\n",
       "      <td>...</td>\n",
       "      <td>...</td>\n",
       "      <td>...</td>\n",
       "      <td>...</td>\n",
       "      <td>...</td>\n",
       "      <td>...</td>\n",
       "      <td>...</td>\n",
       "      <td>...</td>\n",
       "    </tr>\n",
       "    <tr>\n",
       "      <th>517</th>\n",
       "      <td>Shingū</td>\n",
       "      <td>33.7333</td>\n",
       "      <td>135.9833</td>\n",
       "      <td>46.54</td>\n",
       "      <td>51</td>\n",
       "      <td>20</td>\n",
       "      <td>10.13</td>\n",
       "      <td>JP</td>\n",
       "      <td>1611975600</td>\n",
       "    </tr>\n",
       "    <tr>\n",
       "      <th>518</th>\n",
       "      <td>Piteå</td>\n",
       "      <td>65.3172</td>\n",
       "      <td>21.4794</td>\n",
       "      <td>2.14</td>\n",
       "      <td>89</td>\n",
       "      <td>94</td>\n",
       "      <td>11.27</td>\n",
       "      <td>SE</td>\n",
       "      <td>1611975600</td>\n",
       "    </tr>\n",
       "    <tr>\n",
       "      <th>519</th>\n",
       "      <td>Katangli</td>\n",
       "      <td>51.7102</td>\n",
       "      <td>143.2326</td>\n",
       "      <td>0.63</td>\n",
       "      <td>92</td>\n",
       "      <td>100</td>\n",
       "      <td>15.90</td>\n",
       "      <td>RU</td>\n",
       "      <td>1611975600</td>\n",
       "    </tr>\n",
       "    <tr>\n",
       "      <th>520</th>\n",
       "      <td>Canutama</td>\n",
       "      <td>-6.5339</td>\n",
       "      <td>-64.3831</td>\n",
       "      <td>74.89</td>\n",
       "      <td>96</td>\n",
       "      <td>100</td>\n",
       "      <td>3.15</td>\n",
       "      <td>BR</td>\n",
       "      <td>1611975600</td>\n",
       "    </tr>\n",
       "    <tr>\n",
       "      <th>521</th>\n",
       "      <td>Puerto del Rosario</td>\n",
       "      <td>28.5004</td>\n",
       "      <td>-13.8627</td>\n",
       "      <td>65.16</td>\n",
       "      <td>83</td>\n",
       "      <td>46</td>\n",
       "      <td>10.87</td>\n",
       "      <td>ES</td>\n",
       "      <td>1611975600</td>\n",
       "    </tr>\n",
       "  </tbody>\n",
       "</table>\n",
       "<p>522 rows × 9 columns</p>\n",
       "</div>"
      ],
      "text/plain": [
       "                   City      Lat       Lng  Max Temp  Humidity  Cloudiness  \\\n",
       "0           Tuktoyaktuk  69.4541 -133.0374    -28.48        75          17   \n",
       "1             Busselton -33.6500  115.3333     80.56        47           0   \n",
       "2                Albany  42.6001  -73.9662      7.84        68          23   \n",
       "3              Hermanus -34.4187   19.2345     66.94        80          75   \n",
       "4                Tanout  14.9709    8.8879     60.46        29           3   \n",
       "..                  ...      ...       ...       ...       ...         ...   \n",
       "517              Shingū  33.7333  135.9833     46.54        51          20   \n",
       "518               Piteå  65.3172   21.4794      2.14        89          94   \n",
       "519            Katangli  51.7102  143.2326      0.63        92         100   \n",
       "520            Canutama  -6.5339  -64.3831     74.89        96         100   \n",
       "521  Puerto del Rosario  28.5004  -13.8627     65.16        83          46   \n",
       "\n",
       "     Wind Speed Country        Date  \n",
       "0          3.87      CA  1611975600  \n",
       "1          6.53      AU  1611975600  \n",
       "2          9.28      US  1611975600  \n",
       "3          3.29      ZA  1611975600  \n",
       "4         13.15      NE  1611975600  \n",
       "..          ...     ...         ...  \n",
       "517       10.13      JP  1611975600  \n",
       "518       11.27      SE  1611975600  \n",
       "519       15.90      RU  1611975600  \n",
       "520        3.15      BR  1611975600  \n",
       "521       10.87      ES  1611975600  \n",
       "\n",
       "[522 rows x 9 columns]"
      ]
     },
     "execution_count": 15,
     "metadata": {},
     "output_type": "execute_result"
    }
   ],
   "source": [
    "# Convert array of JSONs into Pandas DataFrame\n",
    "weather_dict = {\"City\": cityname,\"Lat\": lat, \"Lng\":lng,\n",
    "                \"Max Temp\":max_temp,\"Humidity\":humidity,\"Cloudiness\":cloudiness,\n",
    "                \"Wind Speed\":wind_speed,\"Country\":country, \"Date\":date}\n",
    "weather_data_df = pd.DataFrame(weather_dict)\n",
    "\n",
    "\n",
    "weather_data_df"
   ]
  },
  {
   "cell_type": "code",
   "execution_count": 13,
   "metadata": {},
   "outputs": [],
   "source": [
    "# Export the City_Data into a csv\n",
    "weather_data_df.to_csv(r'output_data\\weather_data.csv')"
   ]
  },
  {
   "cell_type": "code",
   "execution_count": 16,
   "metadata": {},
   "outputs": [
    {
     "data": {
      "text/html": [
       "<div>\n",
       "<style scoped>\n",
       "    .dataframe tbody tr th:only-of-type {\n",
       "        vertical-align: middle;\n",
       "    }\n",
       "\n",
       "    .dataframe tbody tr th {\n",
       "        vertical-align: top;\n",
       "    }\n",
       "\n",
       "    .dataframe thead th {\n",
       "        text-align: right;\n",
       "    }\n",
       "</style>\n",
       "<table border=\"1\" class=\"dataframe\">\n",
       "  <thead>\n",
       "    <tr style=\"text-align: right;\">\n",
       "      <th></th>\n",
       "      <th>Lat</th>\n",
       "      <th>Lng</th>\n",
       "      <th>Max Temp</th>\n",
       "      <th>Humidity</th>\n",
       "      <th>Cloudiness</th>\n",
       "      <th>Wind Speed</th>\n",
       "      <th>Date</th>\n",
       "    </tr>\n",
       "  </thead>\n",
       "  <tbody>\n",
       "    <tr>\n",
       "      <th>count</th>\n",
       "      <td>522.000000</td>\n",
       "      <td>522.000000</td>\n",
       "      <td>522.000000</td>\n",
       "      <td>522.000000</td>\n",
       "      <td>522.000000</td>\n",
       "      <td>522.000000</td>\n",
       "      <td>5.220000e+02</td>\n",
       "    </tr>\n",
       "    <tr>\n",
       "      <th>mean</th>\n",
       "      <td>20.469574</td>\n",
       "      <td>13.793377</td>\n",
       "      <td>47.069636</td>\n",
       "      <td>74.438697</td>\n",
       "      <td>54.277778</td>\n",
       "      <td>8.228218</td>\n",
       "      <td>1.611976e+09</td>\n",
       "    </tr>\n",
       "    <tr>\n",
       "      <th>std</th>\n",
       "      <td>33.708145</td>\n",
       "      <td>92.048299</td>\n",
       "      <td>34.492137</td>\n",
       "      <td>16.702577</td>\n",
       "      <td>37.805156</td>\n",
       "      <td>5.695219</td>\n",
       "      <td>0.000000e+00</td>\n",
       "    </tr>\n",
       "    <tr>\n",
       "      <th>min</th>\n",
       "      <td>-54.800000</td>\n",
       "      <td>-175.200000</td>\n",
       "      <td>-44.090000</td>\n",
       "      <td>18.000000</td>\n",
       "      <td>0.000000</td>\n",
       "      <td>0.310000</td>\n",
       "      <td>1.611976e+09</td>\n",
       "    </tr>\n",
       "    <tr>\n",
       "      <th>25%</th>\n",
       "      <td>-8.470125</td>\n",
       "      <td>-68.847825</td>\n",
       "      <td>26.492500</td>\n",
       "      <td>68.000000</td>\n",
       "      <td>15.250000</td>\n",
       "      <td>3.580000</td>\n",
       "      <td>1.611976e+09</td>\n",
       "    </tr>\n",
       "    <tr>\n",
       "      <th>50%</th>\n",
       "      <td>23.430700</td>\n",
       "      <td>20.133300</td>\n",
       "      <td>58.005000</td>\n",
       "      <td>78.000000</td>\n",
       "      <td>58.000000</td>\n",
       "      <td>7.350000</td>\n",
       "      <td>1.611976e+09</td>\n",
       "    </tr>\n",
       "    <tr>\n",
       "      <th>75%</th>\n",
       "      <td>50.004425</td>\n",
       "      <td>95.070800</td>\n",
       "      <td>75.385000</td>\n",
       "      <td>85.000000</td>\n",
       "      <td>94.000000</td>\n",
       "      <td>11.315000</td>\n",
       "      <td>1.611976e+09</td>\n",
       "    </tr>\n",
       "    <tr>\n",
       "      <th>max</th>\n",
       "      <td>78.218600</td>\n",
       "      <td>179.316700</td>\n",
       "      <td>98.310000</td>\n",
       "      <td>100.000000</td>\n",
       "      <td>100.000000</td>\n",
       "      <td>31.410000</td>\n",
       "      <td>1.611976e+09</td>\n",
       "    </tr>\n",
       "  </tbody>\n",
       "</table>\n",
       "</div>"
      ],
      "text/plain": [
       "              Lat         Lng    Max Temp    Humidity  Cloudiness  Wind Speed  \\\n",
       "count  522.000000  522.000000  522.000000  522.000000  522.000000  522.000000   \n",
       "mean    20.469574   13.793377   47.069636   74.438697   54.277778    8.228218   \n",
       "std     33.708145   92.048299   34.492137   16.702577   37.805156    5.695219   \n",
       "min    -54.800000 -175.200000  -44.090000   18.000000    0.000000    0.310000   \n",
       "25%     -8.470125  -68.847825   26.492500   68.000000   15.250000    3.580000   \n",
       "50%     23.430700   20.133300   58.005000   78.000000   58.000000    7.350000   \n",
       "75%     50.004425   95.070800   75.385000   85.000000   94.000000   11.315000   \n",
       "max     78.218600  179.316700   98.310000  100.000000  100.000000   31.410000   \n",
       "\n",
       "               Date  \n",
       "count  5.220000e+02  \n",
       "mean   1.611976e+09  \n",
       "std    0.000000e+00  \n",
       "min    1.611976e+09  \n",
       "25%    1.611976e+09  \n",
       "50%    1.611976e+09  \n",
       "75%    1.611976e+09  \n",
       "max    1.611976e+09  "
      ]
     },
     "execution_count": 16,
     "metadata": {},
     "output_type": "execute_result"
    }
   ],
   "source": [
    "weather_data_df.describe()"
   ]
  },
  {
   "cell_type": "markdown",
   "metadata": {},
   "source": [
    "## Inspect the data and remove the cities where the humidity > 100%.\n",
    "----\n",
    "Skip this step if there are no cities that have humidity > 100%. "
   ]
  },
  {
   "cell_type": "code",
   "execution_count": 20,
   "metadata": {},
   "outputs": [],
   "source": [
    "#Max humidity is 100, so nothing to remove."
   ]
  },
  {
   "cell_type": "markdown",
   "metadata": {},
   "source": [
    "## Plotting the Data\n",
    "* Use proper labeling of the plots using plot titles (including date of analysis) and axes labels.\n",
    "* Save the plotted figures as .pngs."
   ]
  },
  {
   "cell_type": "markdown",
   "metadata": {},
   "source": [
    "## Latitude vs. Temperature Plot"
   ]
  },
  {
   "cell_type": "code",
   "execution_count": 31,
   "metadata": {
    "scrolled": true
   },
   "outputs": [
    {
     "data": {
      "image/png": "[encoded data removed]",
      "text/plain": [
       "<Figure size 432x288 with 1 Axes>"
      ]
     },
     "metadata": {
      "needs_background": "light"
     },
     "output_type": "display_data"
    }
   ],
   "source": [
    "plt.scatter(weather_data_df[\"Lat\"], weather_data_df[\"Max Temp\"])\n",
    "\n",
    "# Incorporate the other graph properties\n",
    "plt.title(\"City Latitude vs. Max Temperature (01/30/20)\")\n",
    "plt.ylabel(\"Max Temperature (F)\")\n",
    "plt.xlabel(\"Latitude\")\n",
    "plt.grid(True)\n",
    "\n",
    "#Show plot\n",
    "#plt.show()\n",
    "\n",
    "# Save the plotted figure as .pngs\n",
    "plt.savefig(\"output_data\\City Latitude vs Max Temperature.png\")"
   ]
  },
  {
   "cell_type": "markdown",
   "metadata": {},
   "source": [
    "## Latitude vs. Humidity Plot"
   ]
  },
  {
   "cell_type": "code",
   "execution_count": 33,
   "metadata": {},
   "outputs": [
    {
     "data": {
      "image/png": "[encoded data removed]",
      "text/plain": [
       "<Figure size 432x288 with 1 Axes>"
      ]
     },
     "metadata": {
      "needs_background": "light"
     },
     "output_type": "display_data"
    }
   ],
   "source": [
    "plt.scatter(weather_data_df[\"Lat\"], weather_data_df[\"Humidity\"])\n",
    "\n",
    "# Incorporate the other graph properties\n",
    "plt.title(\"City Latitude vs. Humidity (01/30/20)\")\n",
    "plt.ylabel(\"Humidity (%)\")\n",
    "plt.xlabel(\"Latitude\")\n",
    "plt.grid(True)\n",
    "\n",
    "#Show plot\n",
    "#plt.show()\n",
    "\n",
    "# Save the plotted figure as .pngs\n",
    "plt.savefig(\"output_data\\City Latitude vs Humidity.png\")"
   ]
  },
  {
   "cell_type": "markdown",
   "metadata": {},
   "source": [
    "## Latitude vs. Cloudiness Plot"
   ]
  },
  {
   "cell_type": "code",
   "execution_count": 35,
   "metadata": {},
   "outputs": [
    {
     "data": {
      "image/png": "[encoded data removed]",
      "text/plain": [
       "<Figure size 432x288 with 1 Axes>"
      ]
     },
     "metadata": {
      "needs_background": "light"
     },
     "output_type": "display_data"
    }
   ],
   "source": [
    "plt.scatter(weather_data_df[\"Lat\"], weather_data_df[\"Cloudiness\"])\n",
    "\n",
    "# Incorporate the other graph properties\n",
    "plt.title(\"City Latitude vs. Cloudiness (01/30/20)\")\n",
    "plt.ylabel(\"Cloudiness (%)\")\n",
    "plt.xlabel(\"Latitude\")\n",
    "plt.grid(True)\n",
    "\n",
    "#Show plot\n",
    "#plt.show()\n",
    "\n",
    "# Save the plotted figure as .pngs\n",
    "plt.savefig(\"output_data\\City Latitude vs Cloudiness.png\")"
   ]
  },
  {
   "cell_type": "markdown",
   "metadata": {},
   "source": [
    "## Latitude vs. Wind Speed Plot"
   ]
  },
  {
   "cell_type": "code",
   "execution_count": 76,
   "metadata": {},
   "outputs": [
    {
     "data": {
      "image/png": "[encoded data removed]",
      "text/plain": [
       "<Figure size 432x288 with 1 Axes>"
      ]
     },
     "metadata": {
      "needs_background": "light"
     },
     "output_type": "display_data"
    }
   ],
   "source": [
    "plt.scatter(weather_data_df[\"Lat\"], weather_data_df[\"Wind Speed\"])\n",
    "\n",
    "# Incorporate the other graph properties\n",
    "plt.title(\"City Latitude vs. Wind Speed (01/30/20)\")\n",
    "plt.ylabel(\"Wind Speed (mph)\")\n",
    "plt.xlabel(\"Latitude\")\n",
    "plt.grid(True)\n",
    "\n",
    "#Show plot\n",
    "#plt.show()\n",
    "\n",
    "# Save the plotted figure as .pngs\n",
    "plt.savefig(\"output_data\\City Latitude vs Wind Speed.png\")"
   ]
  },
  {
   "cell_type": "markdown",
   "metadata": {},
   "source": [
    "## Linear Regression"
   ]
  },
  {
   "cell_type": "markdown",
   "metadata": {},
   "source": [
    "####  Northern Hemisphere - Max Temp vs. Latitude Linear Regression"
   ]
  },
  {
   "cell_type": "code",
   "execution_count": 77,
   "metadata": {},
   "outputs": [
    {
     "name": "stdout",
     "output_type": "stream",
     "text": [
      "The r value is: 0.7541120102245498\n"
     ]
    },
    {
     "data": {
      "image/png": "[encoded data removed]",
      "text/plain": [
       "<Figure size 432x288 with 1 Axes>"
      ]
     },
     "metadata": {
      "needs_background": "light"
     },
     "output_type": "display_data"
    }
   ],
   "source": [
    "northern_hem=weather_data_df.loc[weather_data_df[\"Lat\"]>=0]\n",
    "\n",
    "x_values = northern_hem[\"Lat\"]\n",
    "y_values = northern_hem[\"Max Temp\"]\n",
    "(slope, intercept, rvalue, pvalue, stderr) = linregress(x_values, y_values)\n",
    "regress_values = x_values * slope + intercept\n",
    "line_eq = \"y = \" + str(round(slope,2)) + \"x + \" + str(round(intercept,2))\n",
    "plt.scatter(x_values,y_values)\n",
    "plt.plot(x_values,regress_values,\"r-\")\n",
    "plt.xlabel('Latitude')\n",
    "plt.ylabel('Max Temp')\n",
    "\n",
    "print(f\"The r value is: {rvalue**2}\")\n",
    "\n",
    "#plt.show()\n",
    "\n",
    "plt.savefig(\"output_data\\Max Temp vs. Latitude Linear Regression.png\")"
   ]
  },
  {
   "cell_type": "markdown",
   "metadata": {},
   "source": [
    "####  Southern Hemisphere - Max Temp vs. Latitude Linear Regression"
   ]
  },
  {
   "cell_type": "code",
   "execution_count": 79,
   "metadata": {},
   "outputs": [
    {
     "name": "stdout",
     "output_type": "stream",
     "text": [
      "The r value is: 0.3262193075334566\n"
     ]
    },
    {
     "data": {
      "image/png": "[encoded data removed]",
      "text/plain": [
       "<Figure size 432x288 with 1 Axes>"
      ]
     },
     "metadata": {
      "needs_background": "light"
     },
     "output_type": "display_data"
    }
   ],
   "source": [
    "southern_hem=weather_data_df.loc[weather_data_df[\"Lat\"]<0]\n",
    "\n",
    "x_values = southern_hem[\"Lat\"]\n",
    "y_values = southern_hem[\"Max Temp\"]\n",
    "(slope, intercept, rvalue, pvalue, stderr) = linregress(x_values, y_values)\n",
    "regress_values = x_values * slope + intercept\n",
    "line_eq = \"y = \" + str(round(slope,2)) + \"x + \" + str(round(intercept,2))\n",
    "plt.scatter(x_values,y_values)\n",
    "plt.plot(x_values,regress_values,\"r-\")\n",
    "plt.xlabel('Latitude')\n",
    "plt.ylabel('Max Temp')\n",
    "\n",
    "print(f\"The r value is: {rvalue**2}\")\n",
    "\n",
    "#plt.show()\n",
    "\n",
    "plt.savefig(\"output_data\\Southern - Max Temp vs. Latitude Linear Regression.png\")"
   ]
  },
  {
   "cell_type": "markdown",
   "metadata": {},
   "source": [
    "####  Northern Hemisphere - Humidity (%) vs. Latitude Linear Regression"
   ]
  },
  {
   "cell_type": "code",
   "execution_count": 83,
   "metadata": {},
   "outputs": [
    {
     "name": "stdout",
     "output_type": "stream",
     "text": [
      "The r value is: 0.20778504732342773\n"
     ]
    },
    {
     "data": {
      "image/png": "[encoded data removed]",
      "text/plain": [
       "<Figure size 432x288 with 1 Axes>"
      ]
     },
     "metadata": {
      "needs_background": "light"
     },
     "output_type": "display_data"
    }
   ],
   "source": [
    "northern_hem=weather_data_df.loc[weather_data_df[\"Lat\"]>=0]\n",
    "\n",
    "x_values = northern_hem[\"Lat\"]\n",
    "y_values = northern_hem[\"Humidity\"]\n",
    "(slope, intercept, rvalue, pvalue, stderr) = linregress(x_values, y_values)\n",
    "regress_values = x_values * slope + intercept\n",
    "line_eq = \"y = \" + str(round(slope,2)) + \"x + \" + str(round(intercept,2))\n",
    "plt.scatter(x_values,y_values)\n",
    "plt.plot(x_values,regress_values,\"r-\")\n",
    "plt.xlabel('Latitude')\n",
    "plt.ylabel(\"Humidity\")\n",
    "\n",
    "print(f\"The r value is: {rvalue**2}\")\n",
    "\n",
    "#plt.show()\n",
    "\n",
    "plt.savefig(\"output_data\\Humidity vs Latitude Linear Regression.png\")"
   ]
  },
  {
   "cell_type": "markdown",
   "metadata": {},
   "source": [
    "####  Southern Hemisphere - Humidity (%) vs. Latitude Linear Regression"
   ]
  },
  {
   "cell_type": "code",
   "execution_count": 84,
   "metadata": {},
   "outputs": [
    {
     "name": "stdout",
     "output_type": "stream",
     "text": [
      "The r value is: 0.0989467497018529\n"
     ]
    },
    {
     "data": {
      "image/png": "[encoded data removed]",
      "text/plain": [
       "<Figure size 432x288 with 1 Axes>"
      ]
     },
     "metadata": {
      "needs_background": "light"
     },
     "output_type": "display_data"
    }
   ],
   "source": [
    "southern_hem=weather_data_df.loc[weather_data_df[\"Lat\"]<0]\n",
    "\n",
    "x_values = southern_hem[\"Lat\"]\n",
    "y_values = southern_hem[\"Humidity\"]\n",
    "(slope, intercept, rvalue, pvalue, stderr) = linregress(x_values, y_values)\n",
    "regress_values = x_values * slope + intercept\n",
    "line_eq = \"y = \" + str(round(slope,2)) + \"x + \" + str(round(intercept,2))\n",
    "plt.scatter(x_values,y_values)\n",
    "plt.plot(x_values,regress_values,\"r-\")\n",
    "plt.xlabel('Latitude')\n",
    "plt.ylabel('Max Temp')\n",
    "\n",
    "print(f\"The r value is: {rvalue**2}\")\n",
    "\n",
    "#plt.show()\n",
    "\n",
    "plt.savefig(\"output_data\\Southern - Humidity vs Latitude Linear Regression.png\")"
   ]
  },
  {
   "cell_type": "markdown",
   "metadata": {},
   "source": [
    "####  Northern Hemisphere - Cloudiness (%) vs. Latitude Linear Regression"
   ]
  },
  {
   "cell_type": "code",
   "execution_count": 85,
   "metadata": {},
   "outputs": [
    {
     "name": "stdout",
     "output_type": "stream",
     "text": [
      "The r value is: 0.08372907737583234\n"
     ]
    },
    {
     "data": {
      "image/png": "[encoded data removed]",
      "text/plain": [
       "<Figure size 432x288 with 1 Axes>"
      ]
     },
     "metadata": {
      "needs_background": "light"
     },
     "output_type": "display_data"
    }
   ],
   "source": [
    "northern_hem=weather_data_df.loc[weather_data_df[\"Lat\"]>=0]\n",
    "\n",
    "x_values = northern_hem[\"Lat\"]\n",
    "y_values = northern_hem[\"Cloudiness\"]\n",
    "(slope, intercept, rvalue, pvalue, stderr) = linregress(x_values, y_values)\n",
    "regress_values = x_values * slope + intercept\n",
    "line_eq = \"y = \" + str(round(slope,2)) + \"x + \" + str(round(intercept,2))\n",
    "plt.scatter(x_values,y_values)\n",
    "plt.plot(x_values,regress_values,\"r-\")\n",
    "plt.xlabel('Latitude')\n",
    "plt.ylabel(\"Humidity\")\n",
    "\n",
    "print(f\"The r value is: {rvalue**2}\")\n",
    "\n",
    "#plt.show()\n",
    "\n",
    "plt.savefig(\"output_data\\Cloudiness vs Latitude Linear Regression.png\")"
   ]
  },
  {
   "cell_type": "markdown",
   "metadata": {},
   "source": [
    "####  Southern Hemisphere - Cloudiness (%) vs. Latitude Linear Regression"
   ]
  },
  {
   "cell_type": "code",
   "execution_count": 86,
   "metadata": {},
   "outputs": [
    {
     "name": "stdout",
     "output_type": "stream",
     "text": [
      "The r value is: 0.16489608511052534\n"
     ]
    },
    {
     "data": {
      "image/png": "[encoded data removed]",
      "text/plain": [
       "<Figure size 432x288 with 1 Axes>"
      ]
     },
     "metadata": {
      "needs_background": "light"
     },
     "output_type": "display_data"
    }
   ],
   "source": [
    "southern_hem=weather_data_df.loc[weather_data_df[\"Lat\"]<0]\n",
    "\n",
    "x_values = southern_hem[\"Lat\"]\n",
    "y_values = southern_hem[\"Cloudiness\"]\n",
    "(slope, intercept, rvalue, pvalue, stderr) = linregress(x_values, y_values)\n",
    "regress_values = x_values * slope + intercept\n",
    "line_eq = \"y = \" + str(round(slope,2)) + \"x + \" + str(round(intercept,2))\n",
    "plt.scatter(x_values,y_values)\n",
    "plt.plot(x_values,regress_values,\"r-\")\n",
    "plt.xlabel('Latitude')\n",
    "plt.ylabel('Max Temp')\n",
    "\n",
    "print(f\"The r value is: {rvalue**2}\")\n",
    "\n",
    "#plt.show()\n",
    "\n",
    "plt.savefig(\"output_data\\Southern - Cloudiness vs Latitude Linear Regression.png\")"
   ]
  },
  {
   "cell_type": "markdown",
   "metadata": {},
   "source": [
    "####  Northern Hemisphere - Wind Speed (mph) vs. Latitude Linear Regression"
   ]
  },
  {
   "cell_type": "code",
   "execution_count": 87,
   "metadata": {},
   "outputs": [
    {
     "name": "stdout",
     "output_type": "stream",
     "text": [
      "The r value is: 0.005442920697223378\n"
     ]
    },
    {
     "data": {
      "image/png": "[encoded data removed]",
      "text/plain": [
       "<Figure size 432x288 with 1 Axes>"
      ]
     },
     "metadata": {
      "needs_background": "light"
     },
     "output_type": "display_data"
    }
   ],
   "source": [
    "northern_hem=weather_data_df.loc[weather_data_df[\"Lat\"]>=0]\n",
    "\n",
    "x_values = northern_hem[\"Lat\"]\n",
    "y_values = northern_hem[\"Wind Speed\"]\n",
    "(slope, intercept, rvalue, pvalue, stderr) = linregress(x_values, y_values)\n",
    "regress_values = x_values * slope + intercept\n",
    "line_eq = \"y = \" + str(round(slope,2)) + \"x + \" + str(round(intercept,2))\n",
    "plt.scatter(x_values,y_values)\n",
    "plt.plot(x_values,regress_values,\"r-\")\n",
    "plt.xlabel('Latitude')\n",
    "plt.ylabel(\"Humidity\")\n",
    "\n",
    "print(f\"The r value is: {rvalue**2}\")\n",
    "\n",
    "#plt.show()\n",
    "\n",
    "plt.savefig(\"output_data\\Wind Speed vs Latitude Linear Regression.png\")"
   ]
  },
  {
   "cell_type": "markdown",
   "metadata": {},
   "source": [
    "####  Southern Hemisphere - Wind Speed (mph) vs. Latitude Linear Regression"
   ]
  },
  {
   "cell_type": "code",
   "execution_count": 88,
   "metadata": {},
   "outputs": [
    {
     "name": "stdout",
     "output_type": "stream",
     "text": [
      "The r value is: 0.0011587711040205457\n"
     ]
    },
    {
     "data": {
      "image/png": "[encoded data removed]",
      "text/plain": [
       "<Figure size 432x288 with 1 Axes>"
      ]
     },
     "metadata": {
      "needs_background": "light"
     },
     "output_type": "display_data"
    }
   ],
   "source": [
    "southern_hem=weather_data_df.loc[weather_data_df[\"Lat\"]<0]\n",
    "\n",
    "x_values = southern_hem[\"Lat\"]\n",
    "y_values = southern_hem[\"Wind Speed\"]\n",
    "(slope, intercept, rvalue, pvalue, stderr) = linregress(x_values, y_values)\n",
    "regress_values = x_values * slope + intercept\n",
    "line_eq = \"y = \" + str(round(slope,2)) + \"x + \" + str(round(intercept,2))\n",
    "plt.scatter(x_values,y_values)\n",
    "plt.plot(x_values,regress_values,\"r-\")\n",
    "plt.xlabel('Latitude')\n",
    "plt.ylabel('Max Temp')\n",
    "\n",
    "print(f\"The r value is: {rvalue**2}\")\n",
    "\n",
    "#plt.show()\n",
    "\n",
    "plt.savefig(\"output_data\\Southern - Wind Speed vs Latitude Linear Regression.png\")"
   ]
  }
 ],
 "metadata": {
  "anaconda-cloud": {},
  "kernel_info": {
   "name": "python3"
  },
  "kernelspec": {
   "display_name": "Python 3",
   "language": "python",
   "name": "python3"
  },
  "language_info": {
   "codemirror_mode": {
    "name": "ipython",
    "version": 3
   },
   "file_extension": ".py",
   "mimetype": "text/x-python",
   "name": "python",
   "nbconvert_exporter": "python",
   "pygments_lexer": "ipython3",
   "version": "3.8.5"
  },
  "latex_envs": {
   "LaTeX_envs_menu_present": true,
   "autoclose": false,
   "autocomplete": true,
   "bibliofile": "biblio.bib",
   "cite_by": "apalike",
   "current_citInitial": 1,
   "eqLabelWithNumbers": true,
   "eqNumInitial": 1,
   "hotkeys": {
    "equation": "Ctrl-E",
    "itemize": "Ctrl-I"
   },
   "labels_anchors": false,
   "latex_user_defs": false,
   "report_style_numbering": false,
   "user_envs_cfg": false
  },
  "nteract": {
   "version": "0.12.3"
  }
 },
 "nbformat": 4,
 "nbformat_minor": 2
}
